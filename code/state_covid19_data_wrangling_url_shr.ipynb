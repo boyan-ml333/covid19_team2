{
 "cells": [
  {
   "cell_type": "code",
   "execution_count": 1,
   "metadata": {},
   "outputs": [],
   "source": [
    "#!/usr/bin/env python\n",
    "import os, datetime\n",
    "import pandas as pd\n",
    "import numpy as np\n",
    "import requests\n",
    "\n",
    "pd.options.display.max_columns = None\n",
    "\n",
    "# Show multiple outputs\n",
    "from IPython.core.interactiveshell import InteractiveShell\n",
    "InteractiveShell.ast_node_interactivity = \"all\""
   ]
  },
  {
   "cell_type": "markdown",
   "metadata": {},
   "source": [
    "## Import US data at the state and county level\n",
    "+ Social distancing measures (University of Washington, NGA & KFF): https://github.com/COVID19StatePolicy/SocialDistancing\n",
    "+ Timeseries of confirmed cases and deaths (John Hopkins University): https://github.com/CSSEGISandData/COVID-19 \n",
    "+ Google community mobility data: https://www.google.com/covid19/mobility/"
   ]
  },
  {
   "cell_type": "code",
   "execution_count": 2,
   "metadata": {},
   "outputs": [
    {
     "name": "stderr",
     "output_type": "stream",
     "text": [
      "/Users/bpeshlov/anaconda3/lib/python3.7/site-packages/IPython/core/interactiveshell.py:3057: DtypeWarning: Columns (3) have mixed types. Specify dtype option on import or set low_memory=False.\n",
      "  interactivity=interactivity, compiler=compiler, result=result)\n"
     ]
    }
   ],
   "source": [
    "#Import latest data using the links\n",
    "meas_url = 'https://raw.githubusercontent.com/COVID19StatePolicy/SocialDistancing/master/data/USstatesCov19distancingpolicy.csv'\n",
    "case_url = 'https://raw.githubusercontent.com/CSSEGISandData/COVID-19/master/csse_covid_19_data/csse_covid_19_time_series/time_series_covid19_confirmed_US.csv'\n",
    "deaths_url = 'https://raw.githubusercontent.com/CSSEGISandData/COVID-19/master/csse_covid_19_data/csse_covid_19_time_series/time_series_covid19_deaths_US.csv'\n",
    "mob_url = 'https://www.gstatic.com/covid19/mobility/Global_Mobility_Report.csv'\n",
    "\n",
    "measures = pd.read_csv(meas_url,header = 0,index_col=0,encoding = \"ISO-8859-1\", engine='python',\n",
    "                   parse_dates=['DateIssued','DateEnacted','DateExpiry','DateEased','DateEnded'])#csv used to have 582 empty rows at the end, check\n",
    "cases = pd.read_csv(case_url,header = 0,engine='python')\n",
    "deaths = pd.read_csv(deaths_url,header = 0,engine='python')\n",
    "mobility = pd.read_csv(mob_url,parse_dates=['date'])\n"
   ]
  },
  {
   "cell_type": "markdown",
   "metadata": {},
   "source": [
    "### Check the dataframes"
   ]
  },
  {
   "cell_type": "code",
   "execution_count": 9,
   "metadata": {},
   "outputs": [],
   "source": [
    "#Keep only US mobility rows\n",
    "mobility_us = mobility[mobility.country_region_code=='US']"
   ]
  },
  {
   "cell_type": "code",
   "execution_count": 11,
   "metadata": {
    "scrolled": true
   },
   "outputs": [
    {
     "name": "stdout",
     "output_type": "stream",
     "text": [
      "<class 'pandas.core.frame.DataFrame'>\n",
      "Int64Index: 581 entries, 523 to 573\n",
      "Data columns (total 15 columns):\n",
      "StateFIPS            581 non-null int64\n",
      "StatePostal          581 non-null object\n",
      "StateName            581 non-null object\n",
      "StatePolicy          581 non-null object\n",
      "Mandate              581 non-null int64\n",
      "DateIssued           581 non-null datetime64[ns]\n",
      "DateEnacted          581 non-null datetime64[ns]\n",
      "DateExpiry           328 non-null datetime64[ns]\n",
      "DateEased            125 non-null datetime64[ns]\n",
      "DateEnded            29 non-null datetime64[ns]\n",
      "PolicyCodingNotes    536 non-null object\n",
      "PolicySource         581 non-null object\n",
      "StateWide            581 non-null int64\n",
      "LastUpdated          581 non-null int64\n",
      "LastUpdatedNotes     425 non-null object\n",
      "dtypes: datetime64[ns](5), int64(4), object(6)\n",
      "memory usage: 72.6+ KB\n"
     ]
    },
    {
     "data": {
      "text/plain": [
       "StateFIPS              0\n",
       "StatePostal            0\n",
       "StateName              0\n",
       "StatePolicy            0\n",
       "Mandate                0\n",
       "DateIssued             0\n",
       "DateEnacted            0\n",
       "DateExpiry           253\n",
       "DateEased            456\n",
       "DateEnded            552\n",
       "PolicyCodingNotes     45\n",
       "PolicySource           0\n",
       "StateWide              0\n",
       "LastUpdated            0\n",
       "LastUpdatedNotes     156\n",
       "dtype: int64"
      ]
     },
     "execution_count": 11,
     "metadata": {},
     "output_type": "execute_result"
    },
    {
     "name": "stdout",
     "output_type": "stream",
     "text": [
      "Cases df Shape:\n",
      " (3261, 129)\n"
     ]
    },
    {
     "name": "stdout",
     "output_type": "stream",
     "text": [
      "<class 'pandas.core.frame.DataFrame'>\n",
      "Int64Index: 239694 entries, 108182 to 347875\n",
      "Data columns (total 11 columns):\n",
      "country_region_code                                   239694 non-null object\n",
      "country_region                                        239694 non-null object\n",
      "sub_region_1                                          239605 non-null object\n",
      "sub_region_2                                          235066 non-null object\n",
      "date                                                  239694 non-null datetime64[ns]\n",
      "retail_and_recreation_percent_change_from_baseline    177876 non-null float64\n",
      "grocery_and_pharmacy_percent_change_from_baseline     170460 non-null float64\n",
      "parks_percent_change_from_baseline                    62506 non-null float64\n",
      "transit_stations_percent_change_from_baseline         93474 non-null float64\n",
      "workplaces_percent_change_from_baseline               229640 non-null float64\n",
      "residential_percent_change_from_baseline              109248 non-null float64\n",
      "dtypes: datetime64[ns](1), float64(6), object(4)\n",
      "memory usage: 21.9+ MB\n"
     ]
    },
    {
     "data": {
      "text/plain": [
       "country_region_code                                        0\n",
       "country_region                                             0\n",
       "sub_region_1                                              89\n",
       "sub_region_2                                            4628\n",
       "date                                                       0\n",
       "retail_and_recreation_percent_change_from_baseline     61818\n",
       "grocery_and_pharmacy_percent_change_from_baseline      69234\n",
       "parks_percent_change_from_baseline                    177188\n",
       "transit_stations_percent_change_from_baseline         146220\n",
       "workplaces_percent_change_from_baseline                10054\n",
       "residential_percent_change_from_baseline              130446\n",
       "dtype: int64"
      ]
     },
     "execution_count": 11,
     "metadata": {},
     "output_type": "execute_result"
    }
   ],
   "source": [
    "### check dataframes for data types and empty rows\n",
    "measures.info()\n",
    "measures.isnull().sum(axis=0)\n",
    "print('Cases df Shape:\\n', cases.shape)\n",
    "#cases.isnull().sum(axis=0)\n",
    "print('Deaths df Shape:\\n', deaths.shape)\n",
    "#deaths.isnull().sum(axis=0)\n",
    "mobility_us.info()\n",
    "mobility_us.isnull().sum(axis=0)\n"
   ]
  },
  {
   "cell_type": "markdown",
   "metadata": {},
   "source": [
    "### Prepare US states mobility data (missing county names)"
   ]
  },
  {
   "cell_type": "code",
   "execution_count": 49,
   "metadata": {
    "scrolled": true
   },
   "outputs": [],
   "source": [
    "#make a new df with no NaNs in states column where sub_region_1=states, sub_region_2 = counties\n",
    "mobility_counties = mobility_us[mobility_us['sub_region_1'].notna()]#all rows where state is not NAN\n",
    "mobility_states = mobility_counties[mobility_counties['sub_region_2'].isna()]#keep only rows with states and no county value (state only rows)"
   ]
  },
  {
   "cell_type": "code",
   "execution_count": 50,
   "metadata": {},
   "outputs": [
    {
     "name": "stdout",
     "output_type": "stream",
     "text": [
      "<class 'pandas.core.frame.DataFrame'>\n",
      "Int64Index: 4539 entries, 108271 to 346165\n",
      "Data columns (total 8 columns):\n",
      "sub_region_1                                          4539 non-null object\n",
      "date                                                  4539 non-null datetime64[ns]\n",
      "retail_and_recreation_percent_change_from_baseline    4539 non-null float64\n",
      "grocery_and_pharmacy_percent_change_from_baseline     4539 non-null float64\n",
      "parks_percent_change_from_baseline                    4535 non-null float64\n",
      "transit_stations_percent_change_from_baseline         4539 non-null float64\n",
      "workplaces_percent_change_from_baseline               4539 non-null float64\n",
      "residential_percent_change_from_baseline              4539 non-null float64\n",
      "dtypes: datetime64[ns](1), float64(6), object(1)\n",
      "memory usage: 319.1+ KB\n"
     ]
    }
   ],
   "source": [
    "mobility_states.drop(['country_region_code','country_region','sub_region_2'], axis=1,inplace=True)\n",
    "mobility_states.info()\n",
    "#mobility_counties.info()"
   ]
  },
  {
   "cell_type": "code",
   "execution_count": 52,
   "metadata": {},
   "outputs": [
    {
     "name": "stdout",
     "output_type": "stream",
     "text": [
      "set()\n"
     ]
    }
   ],
   "source": [
    "#check for any missing or misspelled states before joining cases, measures and mobility\n",
    "print(set(mobility_states.loc[:,'sub_region_1']) - set(cases.loc[:,'Province_State']))\n",
    "print(set(measures.loc[:,'StateName'])-set(cases.loc[:,'Province_State']))\n",
    "\n",
    "## Check for 'empty strings'\n",
    "## If this generate non-empty array, then dataset contains empty strings.\n",
    "#print(mobility_states[mobility_states.applymap(lambda x: x == '').any(axis=1)])\n",
    "#print(cases[cases.applymap(lambda x: x == '').any(axis=1)])\n",
    "#print(deaths[deaths.applymap(lambda x: x == '').any(axis=1)])\n",
    "#print(measures[measures.applymap(lambda x: x == '').any(axis=1)])\n",
    "#print(\"If the dataframe above is empty, then it doesn't have any empty strings\")"
   ]
  },
  {
   "cell_type": "code",
   "execution_count": 53,
   "metadata": {},
   "outputs": [],
   "source": [
    "#remove suffix from mobility columns\n",
    "mobility_states.columns = [col.replace('_percent_change_from_baseline', '') for col in mobility_states.columns]"
   ]
  },
  {
   "cell_type": "markdown",
   "metadata": {},
   "source": [
    "### Preprocess measures df before merging"
   ]
  },
  {
   "cell_type": "code",
   "execution_count": 22,
   "metadata": {},
   "outputs": [
    {
     "data": {
      "text/html": [
       "<div>\n",
       "<style scoped>\n",
       "    .dataframe tbody tr th:only-of-type {\n",
       "        vertical-align: middle;\n",
       "    }\n",
       "\n",
       "    .dataframe tbody tr th {\n",
       "        vertical-align: top;\n",
       "    }\n",
       "\n",
       "    .dataframe thead th {\n",
       "        text-align: right;\n",
       "    }\n",
       "</style>\n",
       "<table border=\"1\" class=\"dataframe\">\n",
       "  <thead>\n",
       "    <tr style=\"text-align: right;\">\n",
       "      <th></th>\n",
       "      <th>StateName</th>\n",
       "      <th>StatePolicy</th>\n",
       "      <th>Mandate</th>\n",
       "      <th>DateIssued</th>\n",
       "      <th>DateEnacted</th>\n",
       "      <th>StateWide</th>\n",
       "      <th>DateExpiry</th>\n",
       "      <th>DateEased</th>\n",
       "      <th>DateEnded</th>\n",
       "    </tr>\n",
       "    <tr>\n",
       "      <th>location_id</th>\n",
       "      <th></th>\n",
       "      <th></th>\n",
       "      <th></th>\n",
       "      <th></th>\n",
       "      <th></th>\n",
       "      <th></th>\n",
       "      <th></th>\n",
       "      <th></th>\n",
       "      <th></th>\n",
       "    </tr>\n",
       "  </thead>\n",
       "  <tbody>\n",
       "    <tr>\n",
       "      <th>523</th>\n",
       "      <td>Alabama</td>\n",
       "      <td>EmergDec</td>\n",
       "      <td>1</td>\n",
       "      <td>2020-03-13</td>\n",
       "      <td>2020-03-13</td>\n",
       "      <td>1</td>\n",
       "      <td>NaT</td>\n",
       "      <td>NaT</td>\n",
       "      <td>NaT</td>\n",
       "    </tr>\n",
       "    <tr>\n",
       "      <th>523</th>\n",
       "      <td>Alabama</td>\n",
       "      <td>SchoolClose</td>\n",
       "      <td>1</td>\n",
       "      <td>2020-03-14</td>\n",
       "      <td>2020-03-18</td>\n",
       "      <td>1</td>\n",
       "      <td>NaT</td>\n",
       "      <td>NaT</td>\n",
       "      <td>NaT</td>\n",
       "    </tr>\n",
       "    <tr>\n",
       "      <th>523</th>\n",
       "      <td>Alabama</td>\n",
       "      <td>GathRestrict25</td>\n",
       "      <td>1</td>\n",
       "      <td>2020-03-19</td>\n",
       "      <td>2020-03-19</td>\n",
       "      <td>1</td>\n",
       "      <td>NaT</td>\n",
       "      <td>NaT</td>\n",
       "      <td>NaT</td>\n",
       "    </tr>\n",
       "    <tr>\n",
       "      <th>523</th>\n",
       "      <td>Alabama</td>\n",
       "      <td>GathRestrictAny</td>\n",
       "      <td>1</td>\n",
       "      <td>2020-03-19</td>\n",
       "      <td>2020-03-19</td>\n",
       "      <td>1</td>\n",
       "      <td>2020-05-22</td>\n",
       "      <td>NaT</td>\n",
       "      <td>NaT</td>\n",
       "    </tr>\n",
       "    <tr>\n",
       "      <th>523</th>\n",
       "      <td>Alabama</td>\n",
       "      <td>OtherBusinessClose</td>\n",
       "      <td>1</td>\n",
       "      <td>2020-03-19</td>\n",
       "      <td>2020-03-19</td>\n",
       "      <td>1</td>\n",
       "      <td>2020-05-22</td>\n",
       "      <td>2020-04-30</td>\n",
       "      <td>NaT</td>\n",
       "    </tr>\n",
       "  </tbody>\n",
       "</table>\n",
       "</div>"
      ],
      "text/plain": [
       "            StateName         StatePolicy  Mandate DateIssued DateEnacted  \\\n",
       "location_id                                                                 \n",
       "523           Alabama            EmergDec        1 2020-03-13  2020-03-13   \n",
       "523           Alabama         SchoolClose        1 2020-03-14  2020-03-18   \n",
       "523           Alabama      GathRestrict25        1 2020-03-19  2020-03-19   \n",
       "523           Alabama     GathRestrictAny        1 2020-03-19  2020-03-19   \n",
       "523           Alabama  OtherBusinessClose        1 2020-03-19  2020-03-19   \n",
       "\n",
       "             StateWide DateExpiry  DateEased DateEnded  \n",
       "location_id                                             \n",
       "523                  1        NaT        NaT       NaT  \n",
       "523                  1        NaT        NaT       NaT  \n",
       "523                  1        NaT        NaT       NaT  \n",
       "523                  1 2020-05-22        NaT       NaT  \n",
       "523                  1 2020-05-22 2020-04-30       NaT  "
      ]
     },
     "execution_count": 22,
     "metadata": {},
     "output_type": "execute_result"
    }
   ],
   "source": [
    "#Select columns from measures df to merge with cases and deaths dfs\n",
    "measures=measures[~measures.StateFIPS.isnull()]#drop rows with empty StateFIPS values\n",
    "#select measures columns of interest\n",
    "meas_sel = measures[['StateName','StatePolicy','Mandate','DateIssued','DateEnacted','StateWide',\n",
    "                     'DateExpiry','DateEased','DateEnded']]"
   ]
  },
  {
   "cell_type": "code",
   "execution_count": 23,
   "metadata": {},
   "outputs": [
    {
     "data": {
      "text/plain": [
       "StateName        0\n",
       "StatePolicy      0\n",
       "Mandate          0\n",
       "DateIssued       0\n",
       "DateEnacted      0\n",
       "StateWide        0\n",
       "DateExpiry     253\n",
       "DateEased      456\n",
       "DateEnded      552\n",
       "dtype: int64"
      ]
     },
     "execution_count": 23,
     "metadata": {},
     "output_type": "execute_result"
    },
    {
     "data": {
      "text/plain": [
       "581"
      ]
     },
     "execution_count": 23,
     "metadata": {},
     "output_type": "execute_result"
    },
    {
     "data": {
      "text/html": [
       "<div>\n",
       "<style scoped>\n",
       "    .dataframe tbody tr th:only-of-type {\n",
       "        vertical-align: middle;\n",
       "    }\n",
       "\n",
       "    .dataframe tbody tr th {\n",
       "        vertical-align: top;\n",
       "    }\n",
       "\n",
       "    .dataframe thead th {\n",
       "        text-align: right;\n",
       "    }\n",
       "</style>\n",
       "<table border=\"1\" class=\"dataframe\">\n",
       "  <thead>\n",
       "    <tr style=\"text-align: right;\">\n",
       "      <th></th>\n",
       "      <th>StateName</th>\n",
       "      <th>StatePolicy</th>\n",
       "      <th>Mandate</th>\n",
       "      <th>DateIssued</th>\n",
       "      <th>DateEnacted</th>\n",
       "      <th>StateWide</th>\n",
       "      <th>DateExpiry</th>\n",
       "      <th>DateEased</th>\n",
       "      <th>DateEnded</th>\n",
       "    </tr>\n",
       "    <tr>\n",
       "      <th>location_id</th>\n",
       "      <th></th>\n",
       "      <th></th>\n",
       "      <th></th>\n",
       "      <th></th>\n",
       "      <th></th>\n",
       "      <th></th>\n",
       "      <th></th>\n",
       "      <th></th>\n",
       "      <th></th>\n",
       "    </tr>\n",
       "  </thead>\n",
       "  <tbody>\n",
       "  </tbody>\n",
       "</table>\n",
       "</div>"
      ],
      "text/plain": [
       "Empty DataFrame\n",
       "Columns: [StateName, StatePolicy, Mandate, DateIssued, DateEnacted, StateWide, DateExpiry, DateEased, DateEnded]\n",
       "Index: []"
      ]
     },
     "execution_count": 23,
     "metadata": {},
     "output_type": "execute_result"
    }
   ],
   "source": [
    "#Check measures df again for missing values\n",
    "meas_sel.isnull().sum(axis=0)# total NaNs per column \n",
    "len(meas_sel.index)#total rows\n",
    "#most missing values are in DateEnacted\n",
    "#Iowa SchoolClose has DateIssued but DateEnacted is NaT"
   ]
  },
  {
   "cell_type": "markdown",
   "metadata": {},
   "source": [
    "### Preprocess and merge cases and deaths dfs"
   ]
  },
  {
   "cell_type": "code",
   "execution_count": 25,
   "metadata": {},
   "outputs": [],
   "source": [
    "#drop columns initally not needed for modeling\n",
    "cases.drop(['iso2','iso3','Country_Region','Combined_Key','UID','code3','FIPS','Lat','Long_'], axis=1,inplace=True)\n",
    "deaths.drop(['iso2','iso3','Country_Region','Combined_Key','UID','code3','FIPS','Lat','Long_'], axis=1,inplace=True)"
   ]
  },
  {
   "cell_type": "code",
   "execution_count": 26,
   "metadata": {},
   "outputs": [],
   "source": [
    "#Reshape cases and deaths df from wide to tall format\n",
    "c_melt = cases.melt(id_vars =['Province_State', 'Admin2'],var_name='date',value_name='cases')\n",
    "d_melt = deaths.melt(id_vars =['Province_State', 'Admin2','Population'],var_name='date',value_name='deaths')"
   ]
  },
  {
   "cell_type": "code",
   "execution_count": 140,
   "metadata": {},
   "outputs": [],
   "source": [
    "#merge cases and deaths df on state, county and date columns\n",
    "case_death_df = pd.merge(c_melt,d_melt,how='left',on=['Province_State','Admin2','date'])\n",
    "#convert date colum from str to date\n",
    "case_death_df['date'] = pd.to_datetime(case_death_df['date'], format = \"%m/%d/%y\")"
   ]
  },
  {
   "cell_type": "markdown",
   "metadata": {},
   "source": [
    "### Merge cases, deaths, measures and mobility"
   ]
  },
  {
   "cell_type": "code",
   "execution_count": 141,
   "metadata": {},
   "outputs": [],
   "source": [
    "#Add columns with 0s for each measure to the main df\n",
    "dfzeros=pd.DataFrame(np.zeros((len(case_death_df),len(meas_sel.StatePolicy.unique()))),columns = list(meas_sel.StatePolicy.unique())).astype(int)\n",
    "tseries = pd.concat([case_death_df, dfzeros], axis=1)\n",
    "tseries.columns = tseries.columns.str.replace('Province_State','state').str.replace('Admin2','county')"
   ]
  },
  {
   "cell_type": "markdown",
   "metadata": {},
   "source": [
    "### Add measures categorical columns"
   ]
  },
   "source": [
    "#Add measures to cases + deaths df\n",
    "\n",
    "#Loop over states and measures. Plug  1s in the dates and state row each measure was enacted\n",
    "for state in meas_sel.StateName.unique():\n",
    "    for i,meas in enumerate(meas_sel.StatePolicy.unique()):\n",
    "        #select rows by state and  measure\n",
    "        mask1 = (meas_sel.StateName== state) & (meas_sel.StatePolicy==meas)\n",
    "        \n",
    "        if not meas_sel[mask1].empty:\n",
    "            #date policy enacted\n",
    "            start = meas_sel.loc[mask1,\"DateEnacted\"].values[0]\n",
    "            #date policy expired\n",
    "            end =  meas_sel.loc[mask1,\"DateEnded\"].values[0]\n",
    "        else:\n",
    "            print(state+ \" is missing \" + meas)\n",
    "            continue\n",
    "            \n",
    "        if pd.notnull(start) & pd.notnull(end):\n",
    "            mask2 = (tseries.state==state) & (tseries.date >= start) & (tseries.date <= end)\n",
    "        elif pd.notnull(start):\n",
    "            mask2 = (tseries.state==state) & (tseries.date >= start)\n",
    "        else:\n",
    "            continue\n",
    "        #set measure values to 1 after date was enacted by state\n",
    "        tseries.loc[mask2, meas] = 1\n"
   ]
  },
  {
   "cell_type": "code",
   "execution_count": 144,
   "metadata": {
    "scrolled": false
   },
   "outputs": [],
   "source": [
    "# Rename columns and merge tseries and mobility on states and date columns (counties will be NaNs)\n",
    "df = pd.merge(tseries, mobility_states,  how='left', left_on=['state','date'], right_on = ['sub_region_1','date'])"
   ]
  },
  {
   "cell_type": "code",
   "execution_count": 145,
   "metadata": {},
   "outputs": [],
   "source": [
    "#Drop duplicate columns\n",
    "df.drop(['sub_region_1'],axis=1,inplace=True)"
   ]
  },
  {
   "cell_type": "code",
   "execution_count": 146,
   "metadata": {},
   "outputs": [],
   "source": [
    "#Export final df to csv\n",
    "df.to_csv('05_19_states_cases_measures_mobility.csv')"
   ]
  },
  {
   "cell_type": "code",
   "execution_count": null,
   "metadata": {},
   "outputs": [],
   "source": [
    "#Save original data\n",
    "cases.to_csv('jhu_cases_05_19_20_update.csv')\n",
    "deaths.to_csv('jhu_deaths_05_19_20_update.csv')\n",
    "measures.to_csv('measures_05_19_20_update.csv')\n",
    "mobility_us.to_csv('Google_community_mobility_US_05_19_20_update.csv')"
   ]
  },
  {
   "cell_type": "code",
   "execution_count": null,
   "metadata": {},
   "outputs": [],
   "source": []
  },
  {
   "cell_type": "code",
   "execution_count": 155,
   "metadata": {},
   "outputs": [
    {
     "data": {
      "text/plain": [
       "array(['2020-03-20T00:00:00.000000000', '2020-03-21T00:00:00.000000000',\n",
       "       '2020-03-22T00:00:00.000000000', '2020-03-23T00:00:00.000000000',\n",
       "       '2020-03-24T00:00:00.000000000', '2020-03-25T00:00:00.000000000',\n",
       "       '2020-03-26T00:00:00.000000000', '2020-03-27T00:00:00.000000000',\n",
       "       '2020-03-28T00:00:00.000000000', '2020-03-29T00:00:00.000000000',\n",
       "       '2020-03-30T00:00:00.000000000', '2020-03-31T00:00:00.000000000',\n",
       "       '2020-04-01T00:00:00.000000000', '2020-04-02T00:00:00.000000000',\n",
       "       '2020-04-03T00:00:00.000000000', '2020-04-04T00:00:00.000000000',\n",
       "       '2020-04-05T00:00:00.000000000', '2020-04-06T00:00:00.000000000',\n",
       "       '2020-04-07T00:00:00.000000000', '2020-04-08T00:00:00.000000000',\n",
       "       '2020-04-09T00:00:00.000000000', '2020-04-10T00:00:00.000000000',\n",
       "       '2020-04-11T00:00:00.000000000', '2020-04-12T00:00:00.000000000',\n",
       "       '2020-04-13T00:00:00.000000000', '2020-04-14T00:00:00.000000000',\n",
       "       '2020-04-15T00:00:00.000000000', '2020-04-16T00:00:00.000000000',\n",
       "       '2020-04-17T00:00:00.000000000', '2020-04-18T00:00:00.000000000',\n",
       "       '2020-04-19T00:00:00.000000000', '2020-04-20T00:00:00.000000000',\n",
       "       '2020-04-21T00:00:00.000000000', '2020-04-22T00:00:00.000000000',\n",
       "       '2020-04-23T00:00:00.000000000', '2020-04-24T00:00:00.000000000',\n",
       "       '2020-04-25T00:00:00.000000000', '2020-04-26T00:00:00.000000000',\n",
       "       '2020-04-27T00:00:00.000000000', '2020-04-28T00:00:00.000000000',\n",
       "       '2020-04-29T00:00:00.000000000', '2020-04-30T00:00:00.000000000',\n",
       "       '2020-05-01T00:00:00.000000000', '2020-05-02T00:00:00.000000000',\n",
       "       '2020-05-03T00:00:00.000000000', '2020-05-04T00:00:00.000000000',\n",
       "       '2020-05-05T00:00:00.000000000', '2020-05-06T00:00:00.000000000',\n",
       "       '2020-05-07T00:00:00.000000000', '2020-05-08T00:00:00.000000000',\n",
       "       '2020-05-09T00:00:00.000000000', '2020-05-10T00:00:00.000000000',\n",
       "       '2020-05-11T00:00:00.000000000', '2020-05-12T00:00:00.000000000',\n",
       "       '2020-05-13T00:00:00.000000000', '2020-05-14T00:00:00.000000000',\n",
       "       '2020-05-15T00:00:00.000000000'], dtype='datetime64[ns]')"
      ]
     },
     "execution_count": 155,
     "metadata": {},
     "output_type": "execute_result"
    }
   ],
   "source": [
    "#tt = df.loc[df[\"county\"]== \"Wyoming\", \"state\"]\n",
    "tt = tseries.loc[(df[\"state\"]== \"Wyoming\") & (tseries[\"GathRestrict10\"]==1)]\n",
    "tt.date.unique()"
   ]
  },
  {
   "cell_type": "code",
   "execution_count": 154,
   "metadata": {},
   "outputs": [
    {
     "data": {
      "text/html": [
       "<div>\n",
       "<style scoped>\n",
       "    .dataframe tbody tr th:only-of-type {\n",
       "        vertical-align: middle;\n",
       "    }\n",
       "\n",
       "    .dataframe tbody tr th {\n",
       "        vertical-align: top;\n",
       "    }\n",
       "\n",
       "    .dataframe thead th {\n",
       "        text-align: right;\n",
       "    }\n",
       "</style>\n",
       "<table border=\"1\" class=\"dataframe\">\n",
       "  <thead>\n",
       "    <tr style=\"text-align: right;\">\n",
       "      <th></th>\n",
       "      <th>StateName</th>\n",
       "      <th>StatePolicy</th>\n",
       "      <th>Mandate</th>\n",
       "      <th>DateIssued</th>\n",
       "      <th>DateEnacted</th>\n",
       "      <th>StateWide</th>\n",
       "      <th>DateExpiry</th>\n",
       "      <th>DateEased</th>\n",
       "      <th>DateEnded</th>\n",
       "    </tr>\n",
       "    <tr>\n",
       "      <th>location_id</th>\n",
       "      <th></th>\n",
       "      <th></th>\n",
       "      <th></th>\n",
       "      <th></th>\n",
       "      <th></th>\n",
       "      <th></th>\n",
       "      <th></th>\n",
       "      <th></th>\n",
       "      <th></th>\n",
       "    </tr>\n",
       "  </thead>\n",
       "  <tbody>\n",
       "    <tr>\n",
       "      <th>573</th>\n",
       "      <td>Wyoming</td>\n",
       "      <td>EmergDec</td>\n",
       "      <td>1</td>\n",
       "      <td>2020-03-13</td>\n",
       "      <td>2020-03-13</td>\n",
       "      <td>1</td>\n",
       "      <td>NaT</td>\n",
       "      <td>NaT</td>\n",
       "      <td>NaT</td>\n",
       "    </tr>\n",
       "    <tr>\n",
       "      <th>573</th>\n",
       "      <td>Wyoming</td>\n",
       "      <td>OtherBusinessClose</td>\n",
       "      <td>1</td>\n",
       "      <td>2020-03-19</td>\n",
       "      <td>2020-03-19</td>\n",
       "      <td>1</td>\n",
       "      <td>2020-06-01</td>\n",
       "      <td>2020-05-01</td>\n",
       "      <td>NaT</td>\n",
       "    </tr>\n",
       "    <tr>\n",
       "      <th>573</th>\n",
       "      <td>Wyoming</td>\n",
       "      <td>RestaurantRestrict</td>\n",
       "      <td>1</td>\n",
       "      <td>2020-03-19</td>\n",
       "      <td>2020-03-19</td>\n",
       "      <td>1</td>\n",
       "      <td>2020-06-01</td>\n",
       "      <td>2020-05-15</td>\n",
       "      <td>NaT</td>\n",
       "    </tr>\n",
       "    <tr>\n",
       "      <th>573</th>\n",
       "      <td>Wyoming</td>\n",
       "      <td>SchoolClose</td>\n",
       "      <td>1</td>\n",
       "      <td>2020-03-19</td>\n",
       "      <td>2020-03-19</td>\n",
       "      <td>1</td>\n",
       "      <td>2020-06-01</td>\n",
       "      <td>NaT</td>\n",
       "      <td>NaT</td>\n",
       "    </tr>\n",
       "    <tr>\n",
       "      <th>573</th>\n",
       "      <td>Wyoming</td>\n",
       "      <td>GathRestrict10</td>\n",
       "      <td>1</td>\n",
       "      <td>2020-03-20</td>\n",
       "      <td>2020-03-20</td>\n",
       "      <td>1</td>\n",
       "      <td>2020-05-16</td>\n",
       "      <td>NaT</td>\n",
       "      <td>2020-05-15</td>\n",
       "    </tr>\n",
       "    <tr>\n",
       "      <th>573</th>\n",
       "      <td>Wyoming</td>\n",
       "      <td>GathRestrictAny</td>\n",
       "      <td>1</td>\n",
       "      <td>2020-03-20</td>\n",
       "      <td>2020-03-20</td>\n",
       "      <td>1</td>\n",
       "      <td>2020-06-01</td>\n",
       "      <td>2020-05-15</td>\n",
       "      <td>NaT</td>\n",
       "    </tr>\n",
       "    <tr>\n",
       "      <th>573</th>\n",
       "      <td>Wyoming</td>\n",
       "      <td>OtherBusinessClose</td>\n",
       "      <td>1</td>\n",
       "      <td>2020-03-24</td>\n",
       "      <td>2020-03-25</td>\n",
       "      <td>1</td>\n",
       "      <td>2020-06-01</td>\n",
       "      <td>2020-05-01</td>\n",
       "      <td>NaT</td>\n",
       "    </tr>\n",
       "    <tr>\n",
       "      <th>573</th>\n",
       "      <td>Wyoming</td>\n",
       "      <td>Quarantine</td>\n",
       "      <td>1</td>\n",
       "      <td>2020-04-03</td>\n",
       "      <td>2020-04-03</td>\n",
       "      <td>1</td>\n",
       "      <td>2020-05-09</td>\n",
       "      <td>NaT</td>\n",
       "      <td>NaT</td>\n",
       "    </tr>\n",
       "    <tr>\n",
       "      <th>573</th>\n",
       "      <td>Wyoming</td>\n",
       "      <td>PublicMask</td>\n",
       "      <td>0</td>\n",
       "      <td>2020-04-06</td>\n",
       "      <td>2020-04-06</td>\n",
       "      <td>1</td>\n",
       "      <td>NaT</td>\n",
       "      <td>NaT</td>\n",
       "      <td>NaT</td>\n",
       "    </tr>\n",
       "    <tr>\n",
       "      <th>573</th>\n",
       "      <td>Wyoming</td>\n",
       "      <td>GathRestrict25</td>\n",
       "      <td>1</td>\n",
       "      <td>2020-05-13</td>\n",
       "      <td>2020-05-15</td>\n",
       "      <td>1</td>\n",
       "      <td>2020-06-01</td>\n",
       "      <td>NaT</td>\n",
       "      <td>NaT</td>\n",
       "    </tr>\n",
       "  </tbody>\n",
       "</table>\n",
       "</div>"
      ],
      "text/plain": [
       "            StateName         StatePolicy  Mandate DateIssued DateEnacted  \\\n",
       "location_id                                                                 \n",
       "573           Wyoming            EmergDec        1 2020-03-13  2020-03-13   \n",
       "573           Wyoming  OtherBusinessClose        1 2020-03-19  2020-03-19   \n",
       "573           Wyoming  RestaurantRestrict        1 2020-03-19  2020-03-19   \n",
       "573           Wyoming         SchoolClose        1 2020-03-19  2020-03-19   \n",
       "573           Wyoming      GathRestrict10        1 2020-03-20  2020-03-20   \n",
       "573           Wyoming     GathRestrictAny        1 2020-03-20  2020-03-20   \n",
       "573           Wyoming  OtherBusinessClose        1 2020-03-24  2020-03-25   \n",
       "573           Wyoming          Quarantine        1 2020-04-03  2020-04-03   \n",
       "573           Wyoming          PublicMask        0 2020-04-06  2020-04-06   \n",
       "573           Wyoming      GathRestrict25        1 2020-05-13  2020-05-15   \n",
       "\n",
       "             StateWide DateExpiry  DateEased  DateEnded  \n",
       "location_id                                              \n",
       "573                  1        NaT        NaT        NaT  \n",
       "573                  1 2020-06-01 2020-05-01        NaT  \n",
       "573                  1 2020-06-01 2020-05-15        NaT  \n",
       "573                  1 2020-06-01        NaT        NaT  \n",
       "573                  1 2020-05-16        NaT 2020-05-15  \n",
       "573                  1 2020-06-01 2020-05-15        NaT  \n",
       "573                  1 2020-06-01 2020-05-01        NaT  \n",
       "573                  1 2020-05-09        NaT        NaT  \n",
       "573                  1        NaT        NaT        NaT  \n",
       "573                  1 2020-06-01        NaT        NaT  "
      ]
     },
     "execution_count": 154,
     "metadata": {},
     "output_type": "execute_result"
    }
   ],
   "source": [
    "meas_sel.loc[meas_sel.StateName == \"Wyoming\"]"
   ]
  },
  {
   "cell_type": "code",
   "execution_count": null,
   "metadata": {},
   "outputs": [],
   "source": []
  },
  {
   "cell_type": "code",
   "execution_count": null,
   "metadata": {},
   "outputs": [],
   "source": []
  }
 ],
 "metadata": {
  "kernelspec": {
   "display_name": "Python 3",
   "language": "python",
   "name": "python3"
  },
  "language_info": {
   "codemirror_mode": {
    "name": "ipython",
    "version": 3
   },
   "file_extension": ".py",
   "mimetype": "text/x-python",
   "name": "python",
   "nbconvert_exporter": "python",
   "pygments_lexer": "ipython3",
   "version": "3.7.3"
  }
 },
 "nbformat": 4,
 "nbformat_minor": 2
}
